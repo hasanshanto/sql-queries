{
  "nbformat": 4,
  "nbformat_minor": 0,
  "metadata": {
    "colab": {
      "provenance": [],
      "collapsed_sections": [],
      "toc_visible": true
    },
    "kernelspec": {
      "name": "python3",
      "display_name": "Python 3"
    },
    "language_info": {
      "name": "python"
    }
  },
  "cells": [
    {
      "cell_type": "code",
      "execution_count": null,
      "metadata": {
        "id": "-I7dygPcUDRA"
      },
      "outputs": [],
      "source": [
        "# These libraries are pre-installed in SN Labs. If running in another environment please uncomment lines below to install them:\n",
        "!pip install --force-reinstall ibm_db==3.1.0 ibm_db_sa==0.3.3\n",
        "# Ensure we don't load_ext with sqlalchemy>=1.4 (incompadible)\n",
        "!pip uninstall sqlalchemy==1.4 -y && pip install sqlalchemy==1.3.24\n",
        "!pip install ipython-sql"
      ]
    },
    {
      "cell_type": "code",
      "source": [
        "import ibm_db"
      ],
      "metadata": {
        "id": "Hm_jhZv5VM1P"
      },
      "execution_count": 2,
      "outputs": []
    },
    {
      "cell_type": "markdown",
      "source": [
        "When the command above completes, the ibm_db library is loaded in your notebook."
      ],
      "metadata": {
        "id": "10_wwrcFVSa_"
      }
    },
    {
      "cell_type": "markdown",
      "source": [
        "**Identify the database connection credentials**\n",
        "\n",
        "Connecting to dashDB or DB2 database requires the following information:\n",
        "\n",
        "* Driver Name\n",
        "* Database name\n",
        "* Host DNS name or IP address\n",
        "* Host port\n",
        "* Connection protocol\n",
        "* User ID (or username)\n",
        "* User Password"
      ],
      "metadata": {
        "id": "a2hAZDL8VTIl"
      }
    },
    {
      "cell_type": "code",
      "source": [
        "#Replace the placeholder values with your actual Db2 hostname, username, and password:\n",
        "dsn_hostname = \"824dfd4d-99de-440d-9991-629c01b3832d.bs2io90l08kqb1od8lcg.databases.appdomain.cloud\" # e.g.: \"54a2f15b-5c0f-46df-8954-7e38e612c2bd.c1ogj3sd0tgtu0lqde00.databases.appdomain.cloud\"\n",
        "dsn_uid = \"mfz03801\"        # e.g. \"abc12345\"\n",
        "dsn_pwd = \"rocqMYeKeALgmJ7S\"      # e.g. \"7dBZ3wWt9XN6$o0J\"\n",
        "\n",
        "dsn_driver = \"{IBM DB2 ODBC DRIVER}\"\n",
        "dsn_database = \"BLUDB\"            # e.g. \"BLUDB\"\n",
        "dsn_port = \"30119\"                # e.g. \"32733\" \n",
        "dsn_protocol = \"TCPIP\"            # i.e. \"TCPIP\"\n",
        "dsn_security = \"SSL\"              #i.e. \"SSL\""
      ],
      "metadata": {
        "id": "m8S9JhYbVOxk"
      },
      "execution_count": 3,
      "outputs": []
    },
    {
      "cell_type": "markdown",
      "source": [
        "**Create the DB2 database connection**\n",
        "\n",
        "Ibm_db API uses the IBM Data Server Driver for ODBC and CLI APIs to connect to IBM DB2 and Informix.\n",
        "\n",
        "Lets build the dsn connection string using the credentials you entered above"
      ],
      "metadata": {
        "id": "zgi0GpcRVjAG"
      }
    },
    {
      "cell_type": "code",
      "source": [
        "#DO NOT MODIFY THIS CELL. Just RUN it with Shift + Enter\n",
        "#Create the dsn connection string\n",
        "dsn = (\n",
        "    \"DRIVER={0};\"\n",
        "    \"DATABASE={1};\"\n",
        "    \"HOSTNAME={2};\"\n",
        "    \"PORT={3};\"\n",
        "    \"PROTOCOL={4};\"\n",
        "    \"UID={5};\"\n",
        "    \"PWD={6};\"\n",
        "    \"SECURITY={7};\").format(dsn_driver, dsn_database, dsn_hostname, dsn_port, dsn_protocol, dsn_uid, dsn_pwd,dsn_security)\n",
        "\n",
        "#print the connection string to check correct values are specified\n",
        "print(dsn)"
      ],
      "metadata": {
        "colab": {
          "base_uri": "https://localhost:8080/"
        },
        "id": "qzsAn68QVhdw",
        "outputId": "916ffaf0-3788-427d-9323-725e232a153b"
      },
      "execution_count": 4,
      "outputs": [
        {
          "output_type": "stream",
          "name": "stdout",
          "text": [
            "DRIVER={IBM DB2 ODBC DRIVER};DATABASE=BLUDB;HOSTNAME=824dfd4d-99de-440d-9991-629c01b3832d.bs2io90l08kqb1od8lcg.databases.appdomain.cloud;PORT=30119;PROTOCOL=TCPIP;UID=mfz03801;PWD=rocqMYeKeALgmJ7S;SECURITY=SSL;\n"
          ]
        }
      ]
    },
    {
      "cell_type": "markdown",
      "source": [
        "Now establish the connection to the database"
      ],
      "metadata": {
        "id": "WTFyE8IEVpMH"
      }
    },
    {
      "cell_type": "code",
      "source": [
        "#DO NOT MODIFY THIS CELL. Just RUN it with Shift + Enter\n",
        "#Create database connection\n",
        "\n",
        "try:\n",
        "    conn = ibm_db.connect(dsn, \"\", \"\")\n",
        "    print (\"Connected to database: \", dsn_database, \"as user: \", dsn_uid, \"on host: \", dsn_hostname)\n",
        "\n",
        "except:\n",
        "    print (\"Unable to connect: \", ibm_db.conn_errormsg() )"
      ],
      "metadata": {
        "colab": {
          "base_uri": "https://localhost:8080/"
        },
        "id": "YyseJAIDVnxz",
        "outputId": "04079493-6c78-4c73-e20e-4e43a97467f6"
      },
      "execution_count": 5,
      "outputs": [
        {
          "output_type": "stream",
          "name": "stdout",
          "text": [
            "Connected to database:  BLUDB as user:  mfz03801 on host:  824dfd4d-99de-440d-9991-629c01b3832d.bs2io90l08kqb1od8lcg.databases.appdomain.cloud\n"
          ]
        }
      ]
    },
    {
      "cell_type": "markdown",
      "source": [
        "Congratulations if you were able to connect successfuly. Otherwise check the error and try again."
      ],
      "metadata": {
        "id": "GcMMMtu8VSFw"
      }
    },
    {
      "cell_type": "code",
      "source": [
        "#Retrieve Metadata for the Database Server\n",
        "server = ibm_db.server_info(conn)\n",
        "\n",
        "print (\"DBMS_NAME: \", server.DBMS_NAME)\n",
        "print (\"DBMS_VER:  \", server.DBMS_VER)\n",
        "print (\"DB_NAME:   \", server.DB_NAME)"
      ],
      "metadata": {
        "colab": {
          "base_uri": "https://localhost:8080/"
        },
        "id": "u4g-IlZJVtqQ",
        "outputId": "39ab3f2a-7c22-4771-802c-3a5c5cdb911b"
      },
      "execution_count": 6,
      "outputs": [
        {
          "output_type": "stream",
          "name": "stdout",
          "text": [
            "DBMS_NAME:  DB2/LINUXX8664\n",
            "DBMS_VER:   11.05.0700\n",
            "DB_NAME:    BLUDB\n"
          ]
        }
      ]
    },
    {
      "cell_type": "code",
      "source": [
        "#Retrieve Metadata for the Database Client / Driver\n",
        "client = ibm_db.client_info(conn)\n",
        "\n",
        "print (\"DRIVER_NAME:          \", client.DRIVER_NAME) \n",
        "print (\"DRIVER_VER:           \", client.DRIVER_VER)\n",
        "print (\"DATA_SOURCE_NAME:     \", client.DATA_SOURCE_NAME)\n",
        "print (\"DRIVER_ODBC_VER:      \", client.DRIVER_ODBC_VER)\n",
        "print (\"ODBC_VER:             \", client.ODBC_VER)\n",
        "print (\"ODBC_SQL_CONFORMANCE: \", client.ODBC_SQL_CONFORMANCE)\n",
        "print (\"APPL_CODEPAGE:        \", client.APPL_CODEPAGE)\n",
        "print (\"CONN_CODEPAGE:        \", client.CONN_CODEPAGE)"
      ],
      "metadata": {
        "colab": {
          "base_uri": "https://localhost:8080/"
        },
        "id": "2SaB7SNgVwZQ",
        "outputId": "e93f8541-2db5-4f05-d991-7ea535033eb2"
      },
      "execution_count": 7,
      "outputs": [
        {
          "output_type": "stream",
          "name": "stdout",
          "text": [
            "DRIVER_NAME:           libdb2.a\n",
            "DRIVER_VER:            11.05.0600\n",
            "DATA_SOURCE_NAME:      BLUDB\n",
            "DRIVER_ODBC_VER:       03.51\n",
            "ODBC_VER:              03.01.0000\n",
            "ODBC_SQL_CONFORMANCE:  EXTENDED\n",
            "APPL_CODEPAGE:         1208\n",
            "CONN_CODEPAGE:         1208\n"
          ]
        }
      ]
    },
    {
      "cell_type": "markdown",
      "source": [
        "**Close the Connection**\n",
        "\n",
        "We free all resources by closing the connection. Remember that it is always important to close connections so that we can avoid unused connections taking up resources."
      ],
      "metadata": {
        "id": "6yIZHvmzVzHz"
      }
    },
    {
      "cell_type": "code",
      "source": [
        "ibm_db.close(conn)"
      ],
      "metadata": {
        "colab": {
          "base_uri": "https://localhost:8080/"
        },
        "id": "QpnPpdXmVya_",
        "outputId": "e4b9bf62-72f4-46b4-a7b9-5e1dd286d19b"
      },
      "execution_count": 8,
      "outputs": [
        {
          "output_type": "execute_result",
          "data": {
            "text/plain": [
              "True"
            ]
          },
          "metadata": {},
          "execution_count": 8
        }
      ]
    },
    {
      "cell_type": "code",
      "source": [],
      "metadata": {
        "id": "vEZBtPzVV_EH"
      },
      "execution_count": null,
      "outputs": []
    }
  ]
}