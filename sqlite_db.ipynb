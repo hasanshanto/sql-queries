{
  "nbformat": 4,
  "nbformat_minor": 0,
  "metadata": {
    "colab": {
      "provenance": [],
      "collapsed_sections": [],
      "toc_visible": true
    },
    "kernelspec": {
      "name": "python3",
      "display_name": "Python 3"
    },
    "language_info": {
      "name": "python"
    }
  },
  "cells": [
    {
      "cell_type": "markdown",
      "source": [
        "## **Crate database using SQLite**"
      ],
      "metadata": {
        "id": "SGLj0txhhoJs"
      }
    },
    {
      "cell_type": "markdown",
      "source": [
        "SQLite is a software library that implements a self-contained, serverless, zero-configuration, transactional SQL database engine. SQLite is the most widely deployed SQL database engine in the world."
      ],
      "metadata": {
        "id": "eE3cvBIahH0Z"
      }
    },
    {
      "cell_type": "code",
      "execution_count": 3,
      "metadata": {
        "colab": {
          "base_uri": "https://localhost:8080/"
        },
        "id": "dVS46pXmhDyY",
        "outputId": "7ca0c3e6-470b-4110-a2c7-fa46ea549626"
      },
      "outputs": [
        {
          "output_type": "stream",
          "name": "stdout",
          "text": [
            "Looking in indexes: https://pypi.org/simple, https://us-python.pkg.dev/colab-wheels/public/simple/\n",
            "\u001b[31mERROR: Could not find a version that satisfies the requirement sqlite3 (from versions: none)\u001b[0m\n",
            "\u001b[31mERROR: No matching distribution found for sqlite3\u001b[0m\n"
          ]
        }
      ],
      "source": [
        "#Install & load sqlite3\n",
        "!pip install sqlite3  ##Uncomment the code to install sqlite3\n",
        "import sqlite3"
      ]
    },
    {
      "cell_type": "code",
      "source": [
        "# Connecting to sqlite\n",
        "# connection object\n",
        "conn = sqlite3.connect('INSTRUCTOR.db')"
      ],
      "metadata": {
        "id": "wquWvOQbhRw2"
      },
      "execution_count": 4,
      "outputs": []
    },
    {
      "cell_type": "markdown",
      "source": [
        "Cursor class is an instance using which you can invoke methods that execute SQLite statements, fetch data from the result sets of the queries. You can create Cursor object using the cursor() method of the Connection object/class."
      ],
      "metadata": {
        "id": "vgv3Oj6mhbty"
      }
    },
    {
      "cell_type": "code",
      "source": [
        "# cursor object\n",
        "cursor_obj = conn.cursor()"
      ],
      "metadata": {
        "id": "3CP9A1lfhZUS"
      },
      "execution_count": 5,
      "outputs": []
    },
    {
      "cell_type": "markdown",
      "source": [
        "## **Create a Table in the Database**"
      ],
      "metadata": {
        "id": "Fz1wSPa8hwRA"
      }
    },
    {
      "cell_type": "markdown",
      "source": [
        "Before creating a table, let's first see if the table already exist or not. To drop the table from a database use DROP query. A cursor is an object which helps to execute the query and fetch the records from the database."
      ],
      "metadata": {
        "id": "ffe7LoL8h6xu"
      }
    },
    {
      "cell_type": "code",
      "source": [
        "# Drop the table if already exists.\n",
        "cursor_obj.execute(\"DROP TABLE IF EXISTS INSTRUCTOR\")"
      ],
      "metadata": {
        "colab": {
          "base_uri": "https://localhost:8080/"
        },
        "id": "_SkLDQhlhgbB",
        "outputId": "c8974705-23b2-450b-9f49-a442cf966c3a"
      },
      "execution_count": 6,
      "outputs": [
        {
          "output_type": "execute_result",
          "data": {
            "text/plain": [
              "<sqlite3.Cursor at 0x7fab070f8d50>"
            ]
          },
          "metadata": {},
          "execution_count": 6
        }
      ]
    },
    {
      "cell_type": "code",
      "source": [
        "# Creating table\n",
        "table = \"\"\" create table IF NOT EXISTS INSTRUCTOR(ID INTEGER PRIMARY KEY NOT NULL, F_NAME VARCHAR(20), L_NAME VARCHAR(20), CITY VARCHAR(20), CCODE CHAR(2));\"\"\"\n",
        " \n",
        "cursor_obj.execute(table)\n",
        " \n",
        "print(\"Table is Ready\")"
      ],
      "metadata": {
        "colab": {
          "base_uri": "https://localhost:8080/"
        },
        "id": "HsKiEdw-iA8q",
        "outputId": "bde08059-7d66-4575-f7c6-e5b597bd33ce"
      },
      "execution_count": 7,
      "outputs": [
        {
          "output_type": "stream",
          "name": "stdout",
          "text": [
            "Table is Ready\n"
          ]
        }
      ]
    },
    {
      "cell_type": "markdown",
      "source": [
        "## **Insert data into Table**"
      ],
      "metadata": {
        "id": "U7XnldM-iNyF"
      }
    },
    {
      "cell_type": "markdown",
      "source": [
        "In this step we will insert some rows of data into the table.\n",
        "\n",
        "The INSTRUCTOR table we created in the previous step contains 3 rows of data:"
      ],
      "metadata": {
        "id": "nrQ8Y9PciUiQ"
      }
    },
    {
      "cell_type": "code",
      "source": [
        "cursor_obj.execute('''insert into INSTRUCTOR values (1, 'Rav', 'Ahuja', 'TORONTO', 'CA')''')"
      ],
      "metadata": {
        "colab": {
          "base_uri": "https://localhost:8080/"
        },
        "id": "DzSrL2fDiMEI",
        "outputId": "73e8958d-ae73-4414-9ea1-b62b63d7037c"
      },
      "execution_count": 8,
      "outputs": [
        {
          "output_type": "execute_result",
          "data": {
            "text/plain": [
              "<sqlite3.Cursor at 0x7fab070f8d50>"
            ]
          },
          "metadata": {},
          "execution_count": 8
        }
      ]
    },
    {
      "cell_type": "markdown",
      "source": [
        "The output you will get something as: sqlite3.Cursor at 0x27a1a491260 which means mySql database has sqlite3.Cursor object at 0x27a1a49126 as output in table. But you may get the different number.\n",
        "\n",
        "Now use a single query to insert the remaining two rows of data"
      ],
      "metadata": {
        "id": "b09hP97YjeWJ"
      }
    },
    {
      "cell_type": "code",
      "source": [
        "cursor_obj.execute('''insert into INSTRUCTOR values (2, 'Raul', 'Chong', 'Markham', 'CA'), (3, 'Hima', 'Vasudevan', 'Chicago', 'US')''')"
      ],
      "metadata": {
        "colab": {
          "base_uri": "https://localhost:8080/"
        },
        "id": "1IxIUlisjad4",
        "outputId": "9cb15cd0-6d7f-4316-acd9-150725dcfeba"
      },
      "execution_count": 9,
      "outputs": [
        {
          "output_type": "execute_result",
          "data": {
            "text/plain": [
              "<sqlite3.Cursor at 0x7fab070f8d50>"
            ]
          },
          "metadata": {},
          "execution_count": 9
        }
      ]
    },
    {
      "cell_type": "markdown",
      "source": [
        "## **Query data in the table**"
      ],
      "metadata": {
        "id": "r2ClvmSFjkar"
      }
    },
    {
      "cell_type": "code",
      "source": [
        "statement = '''SELECT * FROM INSTRUCTOR'''\n",
        "cursor_obj.execute(statement)\n",
        "\n",
        "print(\"All the data\")\n",
        "output_all = cursor_obj.fetchall()\n",
        "for row_all in output_all:\n",
        "  print(row_all)"
      ],
      "metadata": {
        "colab": {
          "base_uri": "https://localhost:8080/"
        },
        "id": "R_chujcAjiIw",
        "outputId": "0d609ec4-b3ce-432b-fe66-a982ca14e53d"
      },
      "execution_count": 10,
      "outputs": [
        {
          "output_type": "stream",
          "name": "stdout",
          "text": [
            "All the data\n",
            "(1, 'Rav', 'Ahuja', 'TORONTO', 'CA')\n",
            "(2, 'Raul', 'Chong', 'Markham', 'CA')\n",
            "(3, 'Hima', 'Vasudevan', 'Chicago', 'US')\n"
          ]
        }
      ]
    },
    {
      "cell_type": "code",
      "source": [
        "## Fetch few rows from the table\n",
        "statement = '''SELECT * FROM INSTRUCTOR'''\n",
        "cursor_obj.execute(statement)\n",
        "  \n",
        "print(\"All the data\")\n",
        "# If you want to fetch few rows from the table we use fetchmany(numberofrows) and mention the number how many rows you want to fetch\n",
        "output_many = cursor_obj.fetchmany(2) \n",
        "for row_many in output_many:\n",
        "  print(row_many)"
      ],
      "metadata": {
        "colab": {
          "base_uri": "https://localhost:8080/"
        },
        "id": "oM2jP0VAjpbg",
        "outputId": "b0c5ba7c-d54b-4899-a240-8b7e1b2e5e24"
      },
      "execution_count": 11,
      "outputs": [
        {
          "output_type": "stream",
          "name": "stdout",
          "text": [
            "All the data\n",
            "(1, 'Rav', 'Ahuja', 'TORONTO', 'CA')\n",
            "(2, 'Raul', 'Chong', 'Markham', 'CA')\n"
          ]
        }
      ]
    },
    {
      "cell_type": "code",
      "source": [
        "# Fetch only FNAME from the table\n",
        "statement = '''SELECT F_NAME FROM INSTRUCTOR'''\n",
        "cursor_obj.execute(statement)\n",
        "  \n",
        "print(\"All the data\")\n",
        "output_column = cursor_obj.fetchall()\n",
        "for fetch in output_column:\n",
        "  print(fetch)"
      ],
      "metadata": {
        "colab": {
          "base_uri": "https://localhost:8080/"
        },
        "id": "WB-IIfyYj4Pw",
        "outputId": "c8d261f9-b63e-4cf7-e700-af52f3fed58a"
      },
      "execution_count": 13,
      "outputs": [
        {
          "output_type": "stream",
          "name": "stdout",
          "text": [
            "All the data\n",
            "('Rav',)\n",
            "('Raul',)\n",
            "('Hima',)\n"
          ]
        }
      ]
    },
    {
      "cell_type": "markdown",
      "source": [
        "using the update statement "
      ],
      "metadata": {
        "id": "y16VnXOlkHjT"
      }
    },
    {
      "cell_type": "code",
      "source": [
        "query_update='''update INSTRUCTOR set CITY='MOOSETOWN' where F_NAME=\"Rav\"'''\n",
        "cursor_obj.execute(query_update)"
      ],
      "metadata": {
        "colab": {
          "base_uri": "https://localhost:8080/"
        },
        "id": "c4SxcBR1j8NA",
        "outputId": "0508a012-2cb1-4750-ca18-66f93f505116"
      },
      "execution_count": 14,
      "outputs": [
        {
          "output_type": "execute_result",
          "data": {
            "text/plain": [
              "<sqlite3.Cursor at 0x7fab070f8d50>"
            ]
          },
          "metadata": {},
          "execution_count": 14
        }
      ]
    },
    {
      "cell_type": "code",
      "source": [
        "statement = '''SELECT * FROM INSTRUCTOR'''\n",
        "cursor_obj.execute(statement)\n",
        "  \n",
        "print(\"All the data\")\n",
        "output1 = cursor_obj.fetchmany(2)\n",
        "for row in output1:\n",
        "  print(row)"
      ],
      "metadata": {
        "colab": {
          "base_uri": "https://localhost:8080/"
        },
        "id": "lcvbFVsmkD3Y",
        "outputId": "6dc520cf-ea27-4fc1-aaf5-576e1f61e8f2"
      },
      "execution_count": 15,
      "outputs": [
        {
          "output_type": "stream",
          "name": "stdout",
          "text": [
            "All the data\n",
            "(1, 'Rav', 'Ahuja', 'MOOSETOWN', 'CA')\n",
            "(2, 'Raul', 'Chong', 'Markham', 'CA')\n"
          ]
        }
      ]
    },
    {
      "cell_type": "markdown",
      "source": [
        "## **Retrieve data into Pandas**"
      ],
      "metadata": {
        "id": "RMvWUaOwkLrt"
      }
    },
    {
      "cell_type": "markdown",
      "source": [
        "In this step we will retrieve the contents of the INSTRUCTOR table into a Pandas dataframe"
      ],
      "metadata": {
        "id": "jOZ31M18kRAX"
      }
    },
    {
      "cell_type": "code",
      "source": [
        "import pandas as pd\n",
        "#retrieve the query results into a pandas dataframe\n",
        "df = pd.read_sql_query(\"select * from instructor;\", conn)\n",
        "\n",
        "#print the dataframe\n",
        "df"
      ],
      "metadata": {
        "colab": {
          "base_uri": "https://localhost:8080/",
          "height": 143
        },
        "id": "6eJ3XISYkGEQ",
        "outputId": "1ac0fa0f-e859-4664-9154-c627f511a938"
      },
      "execution_count": 16,
      "outputs": [
        {
          "output_type": "execute_result",
          "data": {
            "text/plain": [
              "   ID F_NAME     L_NAME       CITY CCODE\n",
              "0   1    Rav      Ahuja  MOOSETOWN    CA\n",
              "1   2   Raul      Chong    Markham    CA\n",
              "2   3   Hima  Vasudevan    Chicago    US"
            ],
            "text/html": [
              "\n",
              "  <div id=\"df-d6b1be58-5217-45b1-805e-818f539c2171\">\n",
              "    <div class=\"colab-df-container\">\n",
              "      <div>\n",
              "<style scoped>\n",
              "    .dataframe tbody tr th:only-of-type {\n",
              "        vertical-align: middle;\n",
              "    }\n",
              "\n",
              "    .dataframe tbody tr th {\n",
              "        vertical-align: top;\n",
              "    }\n",
              "\n",
              "    .dataframe thead th {\n",
              "        text-align: right;\n",
              "    }\n",
              "</style>\n",
              "<table border=\"1\" class=\"dataframe\">\n",
              "  <thead>\n",
              "    <tr style=\"text-align: right;\">\n",
              "      <th></th>\n",
              "      <th>ID</th>\n",
              "      <th>F_NAME</th>\n",
              "      <th>L_NAME</th>\n",
              "      <th>CITY</th>\n",
              "      <th>CCODE</th>\n",
              "    </tr>\n",
              "  </thead>\n",
              "  <tbody>\n",
              "    <tr>\n",
              "      <th>0</th>\n",
              "      <td>1</td>\n",
              "      <td>Rav</td>\n",
              "      <td>Ahuja</td>\n",
              "      <td>MOOSETOWN</td>\n",
              "      <td>CA</td>\n",
              "    </tr>\n",
              "    <tr>\n",
              "      <th>1</th>\n",
              "      <td>2</td>\n",
              "      <td>Raul</td>\n",
              "      <td>Chong</td>\n",
              "      <td>Markham</td>\n",
              "      <td>CA</td>\n",
              "    </tr>\n",
              "    <tr>\n",
              "      <th>2</th>\n",
              "      <td>3</td>\n",
              "      <td>Hima</td>\n",
              "      <td>Vasudevan</td>\n",
              "      <td>Chicago</td>\n",
              "      <td>US</td>\n",
              "    </tr>\n",
              "  </tbody>\n",
              "</table>\n",
              "</div>\n",
              "      <button class=\"colab-df-convert\" onclick=\"convertToInteractive('df-d6b1be58-5217-45b1-805e-818f539c2171')\"\n",
              "              title=\"Convert this dataframe to an interactive table.\"\n",
              "              style=\"display:none;\">\n",
              "        \n",
              "  <svg xmlns=\"http://www.w3.org/2000/svg\" height=\"24px\"viewBox=\"0 0 24 24\"\n",
              "       width=\"24px\">\n",
              "    <path d=\"M0 0h24v24H0V0z\" fill=\"none\"/>\n",
              "    <path d=\"M18.56 5.44l.94 2.06.94-2.06 2.06-.94-2.06-.94-.94-2.06-.94 2.06-2.06.94zm-11 1L8.5 8.5l.94-2.06 2.06-.94-2.06-.94L8.5 2.5l-.94 2.06-2.06.94zm10 10l.94 2.06.94-2.06 2.06-.94-2.06-.94-.94-2.06-.94 2.06-2.06.94z\"/><path d=\"M17.41 7.96l-1.37-1.37c-.4-.4-.92-.59-1.43-.59-.52 0-1.04.2-1.43.59L10.3 9.45l-7.72 7.72c-.78.78-.78 2.05 0 2.83L4 21.41c.39.39.9.59 1.41.59.51 0 1.02-.2 1.41-.59l7.78-7.78 2.81-2.81c.8-.78.8-2.07 0-2.86zM5.41 20L4 18.59l7.72-7.72 1.47 1.35L5.41 20z\"/>\n",
              "  </svg>\n",
              "      </button>\n",
              "      \n",
              "  <style>\n",
              "    .colab-df-container {\n",
              "      display:flex;\n",
              "      flex-wrap:wrap;\n",
              "      gap: 12px;\n",
              "    }\n",
              "\n",
              "    .colab-df-convert {\n",
              "      background-color: #E8F0FE;\n",
              "      border: none;\n",
              "      border-radius: 50%;\n",
              "      cursor: pointer;\n",
              "      display: none;\n",
              "      fill: #1967D2;\n",
              "      height: 32px;\n",
              "      padding: 0 0 0 0;\n",
              "      width: 32px;\n",
              "    }\n",
              "\n",
              "    .colab-df-convert:hover {\n",
              "      background-color: #E2EBFA;\n",
              "      box-shadow: 0px 1px 2px rgba(60, 64, 67, 0.3), 0px 1px 3px 1px rgba(60, 64, 67, 0.15);\n",
              "      fill: #174EA6;\n",
              "    }\n",
              "\n",
              "    [theme=dark] .colab-df-convert {\n",
              "      background-color: #3B4455;\n",
              "      fill: #D2E3FC;\n",
              "    }\n",
              "\n",
              "    [theme=dark] .colab-df-convert:hover {\n",
              "      background-color: #434B5C;\n",
              "      box-shadow: 0px 1px 3px 1px rgba(0, 0, 0, 0.15);\n",
              "      filter: drop-shadow(0px 1px 2px rgba(0, 0, 0, 0.3));\n",
              "      fill: #FFFFFF;\n",
              "    }\n",
              "  </style>\n",
              "\n",
              "      <script>\n",
              "        const buttonEl =\n",
              "          document.querySelector('#df-d6b1be58-5217-45b1-805e-818f539c2171 button.colab-df-convert');\n",
              "        buttonEl.style.display =\n",
              "          google.colab.kernel.accessAllowed ? 'block' : 'none';\n",
              "\n",
              "        async function convertToInteractive(key) {\n",
              "          const element = document.querySelector('#df-d6b1be58-5217-45b1-805e-818f539c2171');\n",
              "          const dataTable =\n",
              "            await google.colab.kernel.invokeFunction('convertToInteractive',\n",
              "                                                     [key], {});\n",
              "          if (!dataTable) return;\n",
              "\n",
              "          const docLinkHtml = 'Like what you see? Visit the ' +\n",
              "            '<a target=\"_blank\" href=https://colab.research.google.com/notebooks/data_table.ipynb>data table notebook</a>'\n",
              "            + ' to learn more about interactive tables.';\n",
              "          element.innerHTML = '';\n",
              "          dataTable['output_type'] = 'display_data';\n",
              "          await google.colab.output.renderOutput(dataTable, element);\n",
              "          const docLink = document.createElement('div');\n",
              "          docLink.innerHTML = docLinkHtml;\n",
              "          element.appendChild(docLink);\n",
              "        }\n",
              "      </script>\n",
              "    </div>\n",
              "  </div>\n",
              "  "
            ]
          },
          "metadata": {},
          "execution_count": 16
        }
      ]
    },
    {
      "cell_type": "code",
      "source": [
        "#print just the L_NAME for first row in the pandas data frame\n",
        "df.L_NAME[0]"
      ],
      "metadata": {
        "colab": {
          "base_uri": "https://localhost:8080/",
          "height": 36
        },
        "id": "-XJbF0oekS2B",
        "outputId": "192a1e94-1bb0-4ea5-84ba-5f4e3a446cdb"
      },
      "execution_count": 17,
      "outputs": [
        {
          "output_type": "execute_result",
          "data": {
            "text/plain": [
              "'Ahuja'"
            ],
            "application/vnd.google.colaboratory.intrinsic+json": {
              "type": "string"
            }
          },
          "metadata": {},
          "execution_count": 17
        }
      ]
    },
    {
      "cell_type": "markdown",
      "source": [
        "Once the data is in a Pandas dataframe, you can do the typical pandas operations on it.\n",
        "\n",
        "For example you can use the shape method to see how many rows and columns are in the dataframe"
      ],
      "metadata": {
        "id": "PtPvR70akbZE"
      }
    },
    {
      "cell_type": "code",
      "source": [
        "df.shape"
      ],
      "metadata": {
        "colab": {
          "base_uri": "https://localhost:8080/"
        },
        "id": "LcpWmlxbkYnJ",
        "outputId": "b0091597-9cef-43c0-8272-192ef4831fe2"
      },
      "execution_count": 18,
      "outputs": [
        {
          "output_type": "execute_result",
          "data": {
            "text/plain": [
              "(3, 5)"
            ]
          },
          "metadata": {},
          "execution_count": 18
        }
      ]
    },
    {
      "cell_type": "markdown",
      "source": [
        "## **Close the Connection**"
      ],
      "metadata": {
        "id": "YpXx5ZczkhrD"
      }
    },
    {
      "cell_type": "markdown",
      "source": [
        "We free all resources by closing the connection. Remember that it is always important to close connections so that we can avoid unused connections taking up resources."
      ],
      "metadata": {
        "id": "up9gPg2fkkPo"
      }
    },
    {
      "cell_type": "code",
      "source": [
        "# Close the connection\n",
        "conn.close()"
      ],
      "metadata": {
        "id": "3Vc2B00_kd1Q"
      },
      "execution_count": 19,
      "outputs": []
    },
    {
      "cell_type": "code",
      "source": [],
      "metadata": {
        "id": "vsvJVokuknc4"
      },
      "execution_count": null,
      "outputs": []
    }
  ]
}